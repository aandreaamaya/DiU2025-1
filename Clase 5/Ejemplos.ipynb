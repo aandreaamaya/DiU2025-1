{
 "cells": [
  {
   "cell_type": "markdown",
   "metadata": {},
   "source": [
    "# Manejo de errores"
   ]
  },
  {
   "cell_type": "code",
   "execution_count": 3,
   "metadata": {},
   "outputs": [
    {
     "name": "stdout",
     "output_type": "stream",
     "text": [
      "Error: No puedes dividir entre 0\n"
     ]
    }
   ],
   "source": [
    "try:\n",
    "    resultado = 10 / 0\n",
    "except ZeroDivisionError:\n",
    "    print(\"Error: No puedes dividir entre 0\")\n",
    " "
   ]
  },
  {
   "cell_type": "code",
   "execution_count": 2,
   "metadata": {},
   "outputs": [
    {
     "name": "stdout",
     "output_type": "stream",
     "text": [
      "Error: No se puede dividir por cero.\n",
      "Operación finalizada.\n"
     ]
    }
   ],
   "source": [
    "# Código que puede causar un error\n",
    "try:\n",
    "    resultado = 10 / 0\n",
    "except ZeroDivisionError:\n",
    "    # Manejo del error de división por cero\n",
    "    print(\"Error: No se puede dividir por cero.\")\n",
    "else:\n",
    "    # Se ejecuta si no ocurre ninguna excepción\n",
    "    print(f\"Resultado: {resultado}\")\n",
    "finally:\n",
    "    # Se ejecuta siempre\n",
    "    print(\"Operación finalizada.\")"
   ]
  },
  {
   "cell_type": "markdown",
   "metadata": {},
   "source": [
    "# Listas y diccionarios"
   ]
  },
  {
   "cell_type": "code",
   "execution_count": 4,
   "metadata": {},
   "outputs": [
    {
     "name": "stdout",
     "output_type": "stream",
     "text": [
      "[1, 2, 3, 6]\n",
      "6\n",
      "1\n",
      "2\n",
      "3\n",
      "6\n"
     ]
    }
   ],
   "source": [
    "mi_lista = [1, 2, 3, 4]\n",
    "mi_lista.pop()\n",
    "\n",
    "mi_lista.append(6) \n",
    "print(mi_lista)\n",
    "print(mi_lista[3])\n",
    "\n",
    "for elemento in mi_lista:\n",
    "    print(elemento)"
   ]
  },
  {
   "cell_type": "code",
   "execution_count": 5,
   "metadata": {},
   "outputs": [
    {
     "name": "stdout",
     "output_type": "stream",
     "text": [
      "nombre: Luis, Edad: 24\n",
      "nombre: Luis\n",
      "edad: 24\n",
      "Escuela: UNAM\n"
     ]
    }
   ],
   "source": [
    "mi_diccionario = {\"nombre\": \"Luis\", \"edad\": 24}\n",
    "\n",
    "\n",
    "mi_diccionario[\"Escuela\"] = \"UNAM\"\n",
    "# print(mi_diccionario)\n",
    "print(f\"nombre: {mi_diccionario['nombre']}, Edad: {mi_diccionario['edad']}\")\n",
    "for clave, valor in mi_diccionario.items():\n",
    "    print(f\"{clave}: {valor}\")"
   ]
  },
  {
   "cell_type": "markdown",
   "metadata": {},
   "source": [
    "# Comprehensions "
   ]
  },
  {
   "cell_type": "markdown",
   "metadata": {},
   "source": [
    "Forma común de hacer una lista de cuadrados de números."
   ]
  },
  {
   "cell_type": "code",
   "execution_count": 6,
   "metadata": {},
   "outputs": [
    {
     "name": "stdout",
     "output_type": "stream",
     "text": [
      "[1, 4, 9, 16, 25]\n"
     ]
    }
   ],
   "source": [
    "cuadrados = []\n",
    "for x in range (1, 6):\n",
    "    cuadrados.append(x**2)\n",
    "print(cuadrados)\n"
   ]
  },
  {
   "cell_type": "markdown",
   "metadata": {},
   "source": [
    "Forma de hacer una lista de cuadrados de números con una sola línea de código (Comprehensions)"
   ]
  },
  {
   "cell_type": "code",
   "execution_count": 8,
   "metadata": {},
   "outputs": [
    {
     "name": "stdout",
     "output_type": "stream",
     "text": [
      "[1, 4, 9, 16, 25]\n"
     ]
    }
   ],
   "source": [
    "cuadrados = [x**2 for x in range(1, 6)]\n",
    "print(cuadrados)"
   ]
  },
  {
   "cell_type": "code",
   "execution_count": 7,
   "metadata": {},
   "outputs": [
    {
     "name": "stdout",
     "output_type": "stream",
     "text": [
      "['A', 'B', 'C', 'D']\n"
     ]
    }
   ],
   "source": [
    "letras = ['a', 'b', 'c', 'd']\n",
    "letras_my = [letra.upper() for letra in letras]\n",
    "print(letras_my)"
   ]
  },
  {
   "cell_type": "markdown",
   "metadata": {},
   "source": [
    "Forma común de hacer un diccionario que asigna a cada número su cuadrado."
   ]
  },
  {
   "cell_type": "code",
   "execution_count": 10,
   "metadata": {},
   "outputs": [
    {
     "name": "stdout",
     "output_type": "stream",
     "text": [
      "{1: 1, 2: 4, 3: 9, 4: 16, 5: 25}\n"
     ]
    }
   ],
   "source": [
    "cuadrados_dic = {}\n",
    "for x in range(1, 6):\n",
    "    cuadrados_dic[x] = x**2\n",
    "print(cuadrados_dic)"
   ]
  },
  {
   "cell_type": "markdown",
   "metadata": {},
   "source": [
    "Forma de hacer un diccionario que asigna a cada número su cuadrado en una linea de códiigo (comprehensions)."
   ]
  },
  {
   "cell_type": "code",
   "execution_count": 9,
   "metadata": {},
   "outputs": [
    {
     "name": "stdout",
     "output_type": "stream",
     "text": [
      "{1: 1, 2: 4, 3: 9, 4: 16, 5: 25}\n"
     ]
    }
   ],
   "source": [
    "cuadrados_dic = {x: x**2 for x in range (1, 6)}\n",
    "print(cuadrados_dic)"
   ]
  },
  {
   "cell_type": "code",
   "execution_count": 11,
   "metadata": {},
   "outputs": [
    {
     "name": "stdout",
     "output_type": "stream",
     "text": [
      "uno\n"
     ]
    }
   ],
   "source": [
    "mi_diccionario = {\n",
    "    1:'uno',\n",
    "    2: 'dos',\n",
    "    3: 'tres'\n",
    "}\n",
    "print(mi_diccionario[1])"
   ]
  },
  {
   "cell_type": "code",
   "execution_count": 12,
   "metadata": {},
   "outputs": [
    {
     "name": "stdout",
     "output_type": "stream",
     "text": [
      "uno\n",
      "['lista', 'con', 2.5]\n",
      "{1: 'nested'}\n",
      "True\n"
     ]
    }
   ],
   "source": [
    "mi_diccionario = {\n",
    "    1: 'uno',\n",
    "    2.5: [\"lista\", \"con\", 2.5],\n",
    "    (3, 4): {1: \"nested\"},\n",
    "    \"nombre\": True\n",
    "}\n",
    "print(mi_diccionario[1])\n",
    "print(mi_diccionario[2.5])\n",
    "print(mi_diccionario[(3, 4)])\n",
    "print(mi_diccionario[\"nombre\"])"
   ]
  },
  {
   "cell_type": "markdown",
   "metadata": {},
   "source": [
    "### No se puede usar una lista porque es mutable (puede cambiar de valor)"
   ]
  },
  {
   "cell_type": "code",
   "execution_count": 38,
   "metadata": {},
   "outputs": [
    {
     "ename": "TypeError",
     "evalue": "unhashable type: 'list'",
     "output_type": "error",
     "traceback": [
      "\u001b[1;31m---------------------------------------------------------------------------\u001b[0m",
      "\u001b[1;31mTypeError\u001b[0m                                 Traceback (most recent call last)",
      "Cell \u001b[1;32mIn[38], line 1\u001b[0m\n\u001b[1;32m----> 1\u001b[0m mi_diccionario \u001b[38;5;241m=\u001b[39m {\n\u001b[0;32m      2\u001b[0m     [\u001b[38;5;241m1\u001b[39m, \u001b[38;5;241m2\u001b[39m, \u001b[38;5;241m4\u001b[39m]: \u001b[38;5;124m\"\u001b[39m\u001b[38;5;124mlista como clave\u001b[39m\u001b[38;5;124m\"\u001b[39m\n\u001b[0;32m      3\u001b[0m }\n",
      "\u001b[1;31mTypeError\u001b[0m: unhashable type: 'list'"
     ]
    }
   ],
   "source": [
    "mi_diccionario = {\n",
    "    [1, 2, 4]: \"lista como clave\"\n",
    "}"
   ]
  },
  {
   "cell_type": "markdown",
   "metadata": {},
   "source": [
    "### Se pueden usar objetos"
   ]
  },
  {
   "cell_type": "code",
   "execution_count": 13,
   "metadata": {},
   "outputs": [
    {
     "name": "stdout",
     "output_type": "stream",
     "text": [
      "Juan\n",
      "22\n"
     ]
    }
   ],
   "source": [
    "class Persona:\n",
    "    def __init__(self, nombre, edad):\n",
    "        self.nombre = nombre\n",
    "        self.edad = edad\n",
    "persona1 = Persona(\"Juan\", 30)\n",
    "persona2 = Persona(\"Zuriel\", 22)\n",
    "mi_diccionario = {\n",
    "    1: persona1,\n",
    "    2: persona2\n",
    "}\n",
    "print(mi_diccionario[1].nombre)\n",
    "print(mi_diccionario[2].edad)\n"
   ]
  },
  {
   "cell_type": "code",
   "execution_count": 40,
   "metadata": {},
   "outputs": [
    {
     "name": "stdout",
     "output_type": "stream",
     "text": [
      "Maestro\n",
      "Estudiante\n"
     ]
    }
   ],
   "source": [
    "class Persona:\n",
    "    def __init__(self, nombre, edad):\n",
    "        self.nombre = nombre\n",
    "        self.edad = edad\n",
    "persona1 = Persona(\"Juan\", 30)\n",
    "persona2 = Persona(\"Zuriel\", 22)\n",
    "mi_diccionario = {\n",
    "    persona1: \"Maestro\",\n",
    "    persona2: \"Estudiante\"\n",
    "}\n",
    "print(mi_diccionario[persona1])\n",
    "print(mi_diccionario[persona2])\n"
   ]
  },
  {
   "cell_type": "markdown",
   "metadata": {},
   "source": [
    "# Decoradores "
   ]
  },
  {
   "cell_type": "code",
   "execution_count": 5,
   "metadata": {},
   "outputs": [
    {
     "name": "stdout",
     "output_type": "stream",
     "text": [
      "Antes de la función\n",
      " HOOOLAAAA \n",
      "Después de la función\n"
     ]
    }
   ],
   "source": [
    "def mi_decorador(func):\n",
    "    def envoltura():\n",
    "        print(\"Antes de la función\")\n",
    "        func()\n",
    "        print(\"Después de la función\")\n",
    "    return envoltura\n",
    "@mi_decorador\n",
    "def saludar():\n",
    "    print(\" HOOOLAAAA \")\n",
    "\n",
    "saludar()"
   ]
  },
  {
   "cell_type": "code",
   "execution_count": 6,
   "metadata": {},
   "outputs": [
    {
     "name": "stdout",
     "output_type": "stream",
     "text": [
      "HOLA\n",
      "HOLA\n",
      "HOLA\n"
     ]
    }
   ],
   "source": [
    "def repetir(veces):\n",
    "    def decorador(func):\n",
    "        def wrapper(*args, **kwargs):\n",
    "            for _ in range(veces):\n",
    "                resultado = func(*args, **kwargs)\n",
    "            return resultado\n",
    "        return wrapper\n",
    "    return decorador\n",
    "@repetir(3)\n",
    "def decir_hola():\n",
    "    print(\"HOLA\")\n",
    "\n",
    "decir_hola()"
   ]
  },
  {
   "cell_type": "code",
   "execution_count": 8,
   "metadata": {},
   "outputs": [
    {
     "name": "stdout",
     "output_type": "stream",
     "text": [
      "6\n",
      "15\n",
      "4\n"
     ]
    }
   ],
   "source": [
    "def suma(*numero):\n",
    "    resultado = 0\n",
    "    for num in numero:\n",
    "        resultado += num\n",
    "    return resultado\n",
    "print(suma(1, 2, 3))\n",
    "print(suma(5, 10))\n",
    "print(suma(4))\n"
   ]
  },
  {
   "cell_type": "code",
   "execution_count": 9,
   "metadata": {},
   "outputs": [
    {
     "name": "stdout",
     "output_type": "stream",
     "text": [
      "nombre: Andrea\n",
      "edad: 21\n",
      "ciudad: CDMX\n"
     ]
    }
   ],
   "source": [
    "def imprimir_info(**info):\n",
    "    for clave, valor in info.items():\n",
    "        print(f\"{clave}: {valor}\")\n",
    "imprimir_info(nombre=\"Andrea\", edad=21, ciudad=\"CDMX\")"
   ]
  }
 ],
 "metadata": {
  "kernelspec": {
   "display_name": "Python 3",
   "language": "python",
   "name": "python3"
  },
  "language_info": {
   "codemirror_mode": {
    "name": "ipython",
    "version": 3
   },
   "file_extension": ".py",
   "mimetype": "text/x-python",
   "name": "python",
   "nbconvert_exporter": "python",
   "pygments_lexer": "ipython3",
   "version": "3.10.11"
  }
 },
 "nbformat": 4,
 "nbformat_minor": 2
}
